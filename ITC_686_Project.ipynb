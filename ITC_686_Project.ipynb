{
  "nbformat": 4,
  "nbformat_minor": 0,
  "metadata": {
    "colab": {
      "provenance": [],
      "gpuType": "T4"
    },
    "kernelspec": {
      "name": "python3",
      "display_name": "Python 3"
    },
    "language_info": {
      "name": "python"
    },
    "accelerator": "GPU",
    "gpuClass": "standard"
  },
  "cells": [
    {
      "cell_type": "code",
      "execution_count": null,
      "metadata": {
        "id": "fGuk9MYLQCgu",
        "colab": {
          "base_uri": "https://localhost:8080/"
        },
        "outputId": "98aa891f-01a5-4eb5-ec80-33a1627a32dc"
      },
      "outputs": [
        {
          "output_type": "stream",
          "name": "stdout",
          "text": [
            "Looking in indexes: https://pypi.org/simple, https://us-python.pkg.dev/colab-wheels/public/simple/\n",
            "Collecting pyspark\n",
            "  Downloading pyspark-3.4.0.tar.gz (310.8 MB)\n",
            "\u001b[2K     \u001b[90m━━━━━━━━━━━━━━━━━━━━━━━━━━━━━━━━━━━━━━━\u001b[0m \u001b[32m310.8/310.8 MB\u001b[0m \u001b[31m5.0 MB/s\u001b[0m eta \u001b[36m0:00:00\u001b[0m\n",
            "\u001b[?25h  Preparing metadata (setup.py) ... \u001b[?25l\u001b[?25hdone\n",
            "Requirement already satisfied: py4j==0.10.9.7 in /usr/local/lib/python3.10/dist-packages (from pyspark) (0.10.9.7)\n",
            "Building wheels for collected packages: pyspark\n",
            "  Building wheel for pyspark (setup.py) ... \u001b[?25l\u001b[?25hdone\n",
            "  Created wheel for pyspark: filename=pyspark-3.4.0-py2.py3-none-any.whl size=311317145 sha256=03fbc593ce5ed28e185bbf23fdf40a52196ba210f23fd45a3ce37f85c7290bb6\n",
            "  Stored in directory: /root/.cache/pip/wheels/7b/1b/4b/3363a1d04368e7ff0d408e57ff57966fcdf00583774e761327\n",
            "Successfully built pyspark\n",
            "Installing collected packages: pyspark\n",
            "Successfully installed pyspark-3.4.0\n"
          ]
        }
      ],
      "source": [
        "!pip install pyspark\n",
        "\n",
        "import pyspark \n",
        "from pyspark import SparkContext\n",
        "from pyspark import SQLContext\n",
        "from pyspark.sql.types import *\n",
        "\n",
        "import pandas as pd"
      ]
    },
    {
      "cell_type": "code",
      "source": [
        "from pyspark.sql import SparkSession\n",
        "\n",
        "# Creating a SparkSession\n",
        "\n",
        "spark = SparkSession.builder.appName(\"FlightPricesEDA\").getOrCreate()\n",
        "\n",
        "# from google colab importing drive\n",
        "\n",
        "from google.colab import drive\n",
        "\n",
        "drive.mount('/content/drive/') \n",
        "\n",
        "# Load the dataset from CSV file\n",
        "\n",
        "df = spark.read.csv(\"/content/drive/My Drive/Colab Notebooks/itineraries.csv\", header=True, inferSchema=True)"
      ],
      "metadata": {
        "id": "xoYfVjUHyVYm",
        "colab": {
          "base_uri": "https://localhost:8080/"
        },
        "outputId": "6e1ab663-5e36-4dd9-eeb0-2c2871bc7988"
      },
      "execution_count": null,
      "outputs": [
        {
          "output_type": "stream",
          "name": "stdout",
          "text": [
            "Mounted at /content/drive/\n"
          ]
        }
      ]
    },
    {
      "cell_type": "code",
      "source": [
        "df.show()"
      ],
      "metadata": {
        "id": "98AxzeumElan",
        "colab": {
          "base_uri": "https://localhost:8080/"
        },
        "outputId": "039fb81a-bc16-408a-f8bb-48affe27da07"
      },
      "execution_count": null,
      "outputs": [
        {
          "output_type": "stream",
          "name": "stdout",
          "text": [
            "+--------------------+----------+----------+---------------+------------------+-------------+--------------+-----------+--------------+------------+---------+--------+---------+--------------+-------------------+---------------------------------+------------------------+-------------------------------+----------------------+--------------------------+----------------------------+--------------------+-------------------+----------------------------+-------------------------+----------------+-----------------+\n",
            "|               legId|searchDate|flightDate|startingAirport|destinationAirport|fareBasisCode|travelDuration|elapsedDays|isBasicEconomy|isRefundable|isNonStop|baseFare|totalFare|seatsRemaining|totalTravelDistance|segmentsDepartureTimeEpochSeconds|segmentsDepartureTimeRaw|segmentsArrivalTimeEpochSeconds|segmentsArrivalTimeRaw|segmentsArrivalAirportCode|segmentsDepartureAirportCode| segmentsAirlineName|segmentsAirlineCode|segmentsEquipmentDescription|segmentsDurationInSeconds|segmentsDistance|segmentsCabinCode|\n",
            "+--------------------+----------+----------+---------------+------------------+-------------+--------------+-----------+--------------+------------+---------+--------+---------+--------------+-------------------+---------------------------------+------------------------+-------------------------------+----------------------+--------------------------+----------------------------+--------------------+-------------------+----------------------------+-------------------------+----------------+-----------------+\n",
            "|9ca0e81111c683bec...|2022-04-16|2022-04-17|            ATL|               BOS|     LA0NX0MC|       PT2H29M|          0|         false|       false|     true|  217.67|    248.6|             9|                947|                       1650214620|    2022-04-17T12:57:...|                     1650223560|  2022-04-17T15:26:...|                       BOS|                         ATL|               Delta|                 DL|                 Airbus A321|                     8940|             947|            coach|\n",
            "|98685953630e772a0...|2022-04-16|2022-04-17|            ATL|               BOS|     LA0NX0MC|       PT2H30M|          0|         false|       false|     true|  217.67|    248.6|             4|                947|                       1650191400|    2022-04-17T06:30:...|                     1650200400|  2022-04-17T09:00:...|                       BOS|                         ATL|               Delta|                 DL|                 Airbus A321|                     9000|             947|            coach|\n",
            "|98d90cbc32bfbb05c...|2022-04-16|2022-04-17|            ATL|               BOS|     LA0NX0MC|       PT2H30M|          0|         false|       false|     true|  217.67|    248.6|             9|                947|                       1650209700|    2022-04-17T11:35:...|                     1650218700|  2022-04-17T14:05:...|                       BOS|                         ATL|               Delta|                 DL|              Boeing 757-200|                     9000|             947|            coach|\n",
            "|969a269d38eae583f...|2022-04-16|2022-04-17|            ATL|               BOS|     LA0NX0MC|       PT2H32M|          0|         false|       false|     true|  217.67|    248.6|             8|                947|                       1650218340|    2022-04-17T13:59:...|                     1650227460|  2022-04-17T16:31:...|                       BOS|                         ATL|               Delta|                 DL|                 Airbus A321|                     9120|             947|            coach|\n",
            "|980370cf27c89b40d...|2022-04-16|2022-04-17|            ATL|               BOS|     LA0NX0MC|       PT2H34M|          0|         false|       false|     true|  217.67|    248.6|             9|                947|                       1650203940|    2022-04-17T09:59:...|                     1650213180|  2022-04-17T12:33:...|                       BOS|                         ATL|               Delta|                 DL|                 Airbus A321|                     9240|             947|            coach|\n",
            "|79eda9f841e226a1e...|2022-04-16|2022-04-17|            ATL|               BOS|     VH0AUEL1|       PT2H38M|          0|         false|       false|     true|  217.67|    248.6|             7|                947|                       1650206700|    2022-04-17T10:45:...|                     1650216180|  2022-04-17T13:23:...|                       BOS|                         ATL|     JetBlue Airways|                 B6|                        null|                     9480|             947|            coach|\n",
            "|9335fae376c38bb61...|2022-04-16|2022-04-17|            ATL|               BOS|     V0AJZNN1|       PT4H12M|          0|         false|       false|    false|  213.02|    251.1|             3|                956|             1650198000||16502...|    2022-04-17T08:20:...|           1650203400||16502...|  2022-04-17T09:50:...|                  CLT||BOS|                    ATL||CLT|American Airlines...|             AA||AA|        Airbus A320||Airb...|               5400||7500|        228||728|     coach||coach|\n",
            "|3904bf87f2d1daf33...|2022-04-16|2022-04-17|            ATL|               BOS|     V0AJZNN1|       PT5H18M|          0|         false|       false|    false|  213.02|    251.1|             3|                956|             1650198000||16502...|    2022-04-17T08:20:...|           1650203400||16502...|  2022-04-17T09:50:...|                  CLT||BOS|                    ATL||CLT|American Airlines...|             AA||AA|        Airbus A320||Boei...|               5400||8280|        228||728|     coach||coach|\n",
            "|d93988734c44a3c07...|2022-04-16|2022-04-17|            ATL|               BOS|     V0AJZNN1|       PT5H32M|          0|         false|       false|    false|  213.02|    251.1|             7|                956|             1650193200||16502...|    2022-04-17T07:00:...|           1650198060||16502...|  2022-04-17T08:21:...|                  CLT||BOS|                    ATL||CLT|American Airlines...|             AA||AA|        Airbus A319||Airb...|               4860||7500|        228||728|     coach||coach|\n",
            "|562e7d5dd6ecbf150...|2022-04-16|2022-04-17|            ATL|               BOS|     V0AJZNN1|       PT6H38M|          0|         false|       false|    false|  213.02|    251.1|             7|                956|             1650193200||16502...|    2022-04-17T07:00:...|           1650198060||16502...|  2022-04-17T08:21:...|                  CLT||BOS|                    ATL||CLT|American Airlines...|             AA||AA|        Airbus A319||Boei...|               4860||8280|        228||728|     coach||coach|\n",
            "|c38a6e4b807d15541...|2022-04-16|2022-04-17|            ATL|               BOS|     VAA0AKEN|       PT4H46M|          0|         false|       false|    false|  213.02|    252.6|             1|                947|             1650187800||16501...|    2022-04-17T05:30:...|           1650194280||16502...|  2022-04-17T07:18:...|                  IAD||BOS|                    ATL||IAD|      United||United|             UA||UA|        Airbus A319||Boei...|               6480||5940|        541||406|     coach||coach|\n",
            "|f66d72ba3a5265766...|2022-04-16|2022-04-17|            ATL|               BOS|     V0AJZNN1|       PT5H45M|          0|         false|       false|    false|  213.02|    252.6|             3|               1462|             1650220740||16502...|    2022-04-17T14:39:...|           1650228840||16502...|  2022-04-17T15:54:...|                  ORD||BOS|                    ATL||ORD|American Airlines...|             AA||AA|        Embraer 175||Boei...|               8100||8340|        600||862|     coach||coach|\n",
            "|e7c4054e85cca9bc7...|2022-04-16|2022-04-17|            ATL|               BOS|     V0AJZNN1|       PT5H59M|          0|         false|       false|    false|  213.02|    252.6|             5|               1462|             1650232800||16502...|    2022-04-17T18:00:...|           1650240660||16502...|  2022-04-17T19:11:...|                  ORD||BOS|                    ATL||ORD|American Airlines...|             AA||AA|        Embraer 175||Boei...|               7860||8640|        600||862|     coach||coach|\n",
            "|5fa8c0f8b25eb24bf...|2022-04-16|2022-04-17|            ATL|               BOS|     V0AJZNN1|       PT7H18M|          0|         false|       false|    false|  213.02|    252.6|             3|               1462|             1650220740||16502...|    2022-04-17T14:39:...|           1650228840||16502...|  2022-04-17T15:54:...|                  ORD||BOS|                    ATL||ORD|American Airlines...|             AA||AA|        Embraer 175||Airb...|               8100||7920|        600||862|     coach||coach|\n",
            "|948d26b3e5658762c...|2022-04-16|2022-04-17|            ATL|               BOS|     VAA0AKEN|       PT8H10M|          0|         false|       false|    false|  213.02|    252.6|             2|               1462|             1650190200||16502...|    2022-04-17T06:10:...|           1650198000||16502...|  2022-04-17T07:20:...|                  ORD||BOS|                    ATL||ORD|      United||United|             UA||UA|        Embraer 175 (Enha...|               7800||8640|        600||862|     coach||coach|\n",
            "|cb345693479e84838...|2022-04-16|2022-04-17|            ATL|               BOS|          VNR|       PT5H39M|          0|         false|       false|    false|   183.0|   290.58|             0|               null|             1650187560||16501...|    2022-04-17T05:26:...|           1650194400||16502...|  2022-04-17T07:20:...|                  FLL||BOS|                    ATL||FLL|Spirit Airlines||...|             NK||NK|        AIRBUS INDUSTRIE ...|              6840||11100|      None||None|     coach||coach|\n",
            "|e1b95e4e6c997517f...|2022-04-16|2022-04-17|            ATL|               BOS|     KH0AUEY5|       PT2H38M|          0|         false|       false|     true|  265.58|    300.1|             7|                947|                       1650206700|    2022-04-17T10:45:...|                     1650216180|  2022-04-17T13:23:...|                       BOS|                         ATL|   American Airlines|                 AA|                        null|                     9480|             947|            coach|\n",
            "|eaf033a044596f0a7...|2022-04-16|2022-04-17|            ATL|               BOS|     L0AJZNN1|       PT4H17M|          0|         false|       false|    false|  260.47|   302.11|             1|                956|             1650233700||16502...|    2022-04-17T18:15:...|           1650238620||16502...|  2022-04-17T19:37:...|                  CLT||BOS|                    ATL||CLT|American Airlines...|             AA||AA|        Canadian Regional...|               4920||7620|        228||728|     coach||coach|\n",
            "|721d9a2f66fe479e7...|2022-04-16|2022-04-17|            ATL|               BOS|     L0AJZNN1|       PT4H36M|          0|         false|       false|    false|  260.47|   302.11|             1|                956|             1650207720||16502...|    2022-04-17T11:02:...|           1650212880||16502...|  2022-04-17T12:28:...|                  CLT||BOS|                    ATL||CLT|American Airlines...|             AA||AA|        Canadair Regional...|               5160||7860|        228||728|     coach||coach|\n",
            "|a9f012defb9227f69...|2022-04-16|2022-04-17|            ATL|               BOS|     L0AJZNN1|       PT4H45M|          0|         false|       false|    false|  260.47|   302.11|             1|                956|             1650226680||16502...|    2022-04-17T16:18:...|           1650230760||16502...|  2022-04-17T17:26:...|                  CLT||BOS|                    ATL||CLT|American Airlines...|             AA||AA|        Airbus A319||Boei...|               4080||7860|        228||728|     coach||coach|\n",
            "+--------------------+----------+----------+---------------+------------------+-------------+--------------+-----------+--------------+------------+---------+--------+---------+--------------+-------------------+---------------------------------+------------------------+-------------------------------+----------------------+--------------------------+----------------------------+--------------------+-------------------+----------------------------+-------------------------+----------------+-----------------+\n",
            "only showing top 20 rows\n",
            "\n"
          ]
        }
      ]
    },
    {
      "cell_type": "code",
      "source": [
        "# Checking number of rows and columns\n",
        "\n",
        "print(\"Number of Rows:\", df.count())\n",
        "print(\"Number of Columns:\", len(df.columns))"
      ],
      "metadata": {
        "id": "IfJr0cnnZ6mu",
        "colab": {
          "base_uri": "https://localhost:8080/"
        },
        "outputId": "2b2a77c9-d708-457c-d046-92948dbf1065"
      },
      "execution_count": null,
      "outputs": [
        {
          "output_type": "stream",
          "name": "stdout",
          "text": [
            "Number of Rows: 82138753\n",
            "Number of Columns: 27\n"
          ]
        }
      ]
    },
    {
      "cell_type": "code",
      "source": [
        "# Checking missing values\n",
        "\n",
        "from pyspark.sql.functions import col, count, avg\n",
        "\n",
        "import pyspark.sql.functions as F \n",
        "\n",
        "print(\"Missing values:\")\n",
        "df.select([count(F.when(col(c).isNull(),c)).alias(c) for c in df.columns]).show()"
      ],
      "metadata": {
        "id": "ru3QNprClMTm",
        "colab": {
          "base_uri": "https://localhost:8080/"
        },
        "outputId": "4d13a21f-85ff-4122-cfc2-a09892d2862c"
      },
      "execution_count": null,
      "outputs": [
        {
          "output_type": "stream",
          "name": "stdout",
          "text": [
            "Missing values:\n",
            "+-----+----------+----------+---------------+------------------+-------------+--------------+-----------+--------------+------------+---------+--------+---------+--------------+-------------------+---------------------------------+------------------------+-------------------------------+----------------------+--------------------------+----------------------------+-------------------+-------------------+----------------------------+-------------------------+----------------+-----------------+\n",
            "|legId|searchDate|flightDate|startingAirport|destinationAirport|fareBasisCode|travelDuration|elapsedDays|isBasicEconomy|isRefundable|isNonStop|baseFare|totalFare|seatsRemaining|totalTravelDistance|segmentsDepartureTimeEpochSeconds|segmentsDepartureTimeRaw|segmentsArrivalTimeEpochSeconds|segmentsArrivalTimeRaw|segmentsArrivalAirportCode|segmentsDepartureAirportCode|segmentsAirlineName|segmentsAirlineCode|segmentsEquipmentDescription|segmentsDurationInSeconds|segmentsDistance|segmentsCabinCode|\n",
            "+-----+----------+----------+---------------+------------------+-------------+--------------+-----------+--------------+------------+---------+--------+---------+--------------+-------------------+---------------------------------+------------------------+-------------------------------+----------------------+--------------------------+----------------------------+-------------------+-------------------+----------------------------+-------------------------+----------------+-----------------+\n",
            "|    0|         0|         0|              0|                 0|            0|             0|          0|             0|           0|        0|       0|        0|             0|            6094532|                                0|                       0|                              0|                     0|                         0|                           0|                  0|                  0|                     1557592|                        0|               0|                0|\n",
            "+-----+----------+----------+---------------+------------------+-------------+--------------+-----------+--------------+------------+---------+--------+---------+--------------+-------------------+---------------------------------+------------------------+-------------------------------+----------------------+--------------------------+----------------------------+-------------------+-------------------+----------------------------+-------------------------+----------------+-----------------+\n",
            "\n"
          ]
        }
      ]
    },
    {
      "cell_type": "code",
      "source": [
        "# Checking for duplicates\n",
        "print(\"Number of Duplicates:\", df.count() - df.dropDuplicates().count())\n",
        "\n",
        "# Removing duplicates\n",
        "df = df.dropDuplicates()"
      ],
      "metadata": {
        "id": "PiC0RgW-c14E",
        "colab": {
          "base_uri": "https://localhost:8080/"
        },
        "outputId": "f58b5d8c-1cd8-4f8e-d85c-500ba564266c"
      },
      "execution_count": null,
      "outputs": [
        {
          "output_type": "stream",
          "name": "stdout",
          "text": [
            "Number of Duplicates: 0\n"
          ]
        }
      ]
    },
    {
      "cell_type": "code",
      "source": [
        "df.show()"
      ],
      "metadata": {
        "id": "aO2Uxh786hyu"
      },
      "execution_count": null,
      "outputs": []
    },
    {
      "cell_type": "code",
      "source": [
        "# Analyzing the summary statistics of numerical variables\n",
        "\n",
        "df.describe([\"baseFare\", \"totalFare\", \"travelDuration\", \"totalTravelDistance\"]).show()"
      ],
      "metadata": {
        "id": "ZuE3DEEvg0-z",
        "colab": {
          "base_uri": "https://localhost:8080/"
        },
        "outputId": "3d54ee6d-3636-4142-96ee-c7dbab3c7c70"
      },
      "execution_count": null,
      "outputs": [
        {
          "output_type": "stream",
          "name": "stdout",
          "text": [
            "+-------+-----------------+------------------+--------------+-------------------+\n",
            "|summary|         baseFare|         totalFare|travelDuration|totalTravelDistance|\n",
            "+-------+-----------------+------------------+--------------+-------------------+\n",
            "|  count|         82138753|          82138753|      82138753|           76044221|\n",
            "|   mean|292.6628527106287|  340.386849139608|          null| 1609.9033457519408|\n",
            "| stddev|183.1887833739836|196.02950991170584|          null|   857.325734547569|\n",
            "|    min|             0.01|             19.59|           P1D|                 89|\n",
            "|    max|          7662.33|           8260.61|        PT9H9M|               7252|\n",
            "+-------+-----------------+------------------+--------------+-------------------+\n",
            "\n"
          ]
        }
      ]
    },
    {
      "cell_type": "code",
      "source": [
        "# Exploring categorical variables\n",
        "\n",
        "df.groupBy(\"StartingAirport\").agg(count(\"*\").alias(\"count\")).orderBy(col(\"count\").desc()).show()\n",
        "df.groupBy(\"destinationAirport\").agg(count(\"*\").alias(\"count\")).orderBy(col(\"count\").desc()).show()\n",
        "df.groupBy(\"segmentsAirlineName\").agg(count(\"*\").alias(\"count\")).orderBy(col(\"count\").desc()).show()\n",
        "df.groupBy(\"segmentsAirlineCode\").agg(count(\"*\").alias(\"count\")).orderBy(col(\"count\").desc()).show()\n",
        "df.groupBy(\"segmentsCabinCode\").agg(count(\"*\").alias(\"count\")).orderBy(col(\"count\").desc()).show()"
      ],
      "metadata": {
        "id": "m9LkMPzaq8oM",
        "colab": {
          "base_uri": "https://localhost:8080/"
        },
        "outputId": "f184483f-9566-407c-904d-ca6ba08f66c6"
      },
      "execution_count": null,
      "outputs": [
        {
          "output_type": "stream",
          "name": "stdout",
          "text": [
            "+---------------+-------+\n",
            "|StartingAirport|  count|\n",
            "+---------------+-------+\n",
            "|            LAX|8073281|\n",
            "|            LGA|5919323|\n",
            "|            BOS|5883876|\n",
            "|            SFO|5706482|\n",
            "|            DFW|5674959|\n",
            "|            ORD|5503476|\n",
            "|            CLT|5494510|\n",
            "|            ATL|5312028|\n",
            "|            MIA|4930213|\n",
            "|            PHL|4726187|\n",
            "|            DEN|4697143|\n",
            "|            DTW|4547052|\n",
            "|            JFK|4425164|\n",
            "|            EWR|3970797|\n",
            "|            OAK|3809884|\n",
            "|            IAD|3464378|\n",
            "+---------------+-------+\n",
            "\n",
            "+------------------+-------+\n",
            "|destinationAirport|  count|\n",
            "+------------------+-------+\n",
            "|               LAX|8006721|\n",
            "|               LGA|6093450|\n",
            "|               DFW|5957280|\n",
            "|               BOS|5801538|\n",
            "|               ORD|5717699|\n",
            "|               SFO|5586204|\n",
            "|               CLT|5411448|\n",
            "|               ATL|5211169|\n",
            "|               MIA|5103390|\n",
            "|               PHL|4703822|\n",
            "|               DEN|4630696|\n",
            "|               DTW|4456269|\n",
            "|               JFK|4413765|\n",
            "|               EWR|4074698|\n",
            "|               OAK|3657923|\n",
            "|               IAD|3312681|\n",
            "+------------------+-------+\n",
            "\n",
            "+--------------------+--------+\n",
            "| segmentsAirlineName|   count|\n",
            "+--------------------+--------+\n",
            "|American Airlines...|16296340|\n",
            "|        Delta||Delta|11351669|\n",
            "|      United||United|10217320|\n",
            "|   American Airlines| 7453245|\n",
            "|               Delta| 4855169|\n",
            "|              United| 4531426|\n",
            "|Spirit Airlines||...| 4215514|\n",
            "|     JetBlue Airways| 3578393|\n",
            "|JetBlue Airways||...| 3129646|\n",
            "|Alaska Airlines||...| 1777996|\n",
            "|       Delta||United| 1400226|\n",
            "|       United||Delta| 1371847|\n",
            "|United||United||D...| 1232572|\n",
            "|Delta||United||Un...| 1101129|\n",
            "|American Airlines...| 1096382|\n",
            "| Delta||Delta||Delta| 1034931|\n",
            "|     Spirit Airlines|  735728|\n",
            "|Frontier Airlines...|  694424|\n",
            "|Alaska Airlines||...|  491504|\n",
            "|   Frontier Airlines|  466926|\n",
            "+--------------------+--------+\n",
            "only showing top 20 rows\n",
            "\n",
            "+-------------------+--------+\n",
            "|segmentsAirlineCode|   count|\n",
            "+-------------------+--------+\n",
            "|             AA||AA|16296340|\n",
            "|             DL||DL|11351669|\n",
            "|             UA||UA|10217320|\n",
            "|                 AA| 7453245|\n",
            "|                 DL| 4855169|\n",
            "|                 UA| 4531426|\n",
            "|             NK||NK| 4215514|\n",
            "|                 B6| 3578393|\n",
            "|             B6||B6| 3129646|\n",
            "|             AS||AS| 1777996|\n",
            "|             DL||UA| 1400226|\n",
            "|             UA||DL| 1371847|\n",
            "|         UA||UA||DL| 1232572|\n",
            "|         DL||UA||UA| 1101129|\n",
            "|         AA||AA||AA| 1096382|\n",
            "|         DL||DL||DL| 1034931|\n",
            "|                 NK|  735728|\n",
            "|             F9||F9|  694424|\n",
            "|             AS||UA|  491504|\n",
            "|                 F9|  466926|\n",
            "+-------------------+--------+\n",
            "only showing top 20 rows\n",
            "\n",
            "+--------------------+--------+\n",
            "|   segmentsCabinCode|   count|\n",
            "+--------------------+--------+\n",
            "|        coach||coach|52175236|\n",
            "|               coach|22011179|\n",
            "| coach||coach||coach| 7558832|\n",
            "|coach||coach||coa...|  198560|\n",
            "|       premium coach|   28144|\n",
            "|premium coach||coach|   22772|\n",
            "|        first||coach|   21753|\n",
            "|        coach||first|   20704|\n",
            "|coach||premium coach|   19500|\n",
            "|               first|   17602|\n",
            "|        first||first|   13812|\n",
            "|            business|    9963|\n",
            "| first||first||first|    7190|\n",
            "|premium coach||co...|    5317|\n",
            "|  business||business|    4910|\n",
            "|premium coach||pr...|    4757|\n",
            "|coach||coach||pre...|    3689|\n",
            "| coach||first||first|    1759|\n",
            "| coach||coach||first|    1554|\n",
            "| first||coach||coach|    1466|\n",
            "+--------------------+--------+\n",
            "only showing top 20 rows\n",
            "\n"
          ]
        }
      ]
    },
    {
      "cell_type": "code",
      "source": [
        "# Calculating the average fare prices for each airline\n",
        "\n",
        "df.groupBy(\"segmentsAirlineName\").agg(avg(\"baseFare\").alias(\"avgBaseFare\"), avg(\"totalFare\").alias(\"avgTotalFare\")).orderBy(col(\"avgBaseFare\").desc()).show()\n"
      ],
      "metadata": {
        "id": "ZwP8k1Fe3TPt",
        "colab": {
          "base_uri": "https://localhost:8080/"
        },
        "outputId": "57ae4373-3519-4bc5-8bcb-9166fa6351cb"
      },
      "execution_count": null,
      "outputs": [
        {
          "output_type": "stream",
          "name": "stdout",
          "text": [
            "+--------------------+------------------+------------------+\n",
            "| segmentsAirlineName|       avgBaseFare|      avgTotalFare|\n",
            "+--------------------+------------------+------------------+\n",
            "|JetBlue Airways||...| 3174.415384615385| 3431.598461538462|\n",
            "|American Airlines...|3172.4033505154616| 3429.437654639175|\n",
            "|United||Cape Air|...|1880.2847222222215|2047.5519444444444|\n",
            "|Cape Air||Delta||...|1781.3014285714285|            1934.0|\n",
            "|Cape Air||Cape Ai...|1652.6216666666667|           1795.67|\n",
            "|Cape Air||Cape Ai...| 833.7541747572814| 915.3861165048544|\n",
            "|Hawaiian Airlines...|  829.431111111111|  881.312222222222|\n",
            "|Cape Air||Cape Ai...|            825.86|             906.9|\n",
            "|Delta||United||Ca...|            825.03|            906.01|\n",
            "|Delta||United||Un...|   801.92698630137| 902.3435616438354|\n",
            "|Delta||Cape Air||...| 786.3267800000001| 870.0805000000008|\n",
            "|JetBlue Airways||...| 785.3941732283463| 863.3644094488186|\n",
            "|Delta||United||Un...|           779.065|           875.695|\n",
            "|Alaska Airlines||...| 762.3852040816328| 865.8078571428573|\n",
            "|Cape Air||Cape Ai...| 762.1603821656048| 838.9294394904454|\n",
            "|United||Delta||Un...|            759.34| 848.3885714285716|\n",
            "|Delta||United||Delta| 750.0286880466473| 838.4823117818559|\n",
            "|Cape Air||Cape Ai...|           744.465| 823.9016666666666|\n",
            "|Delta||Alaska Air...| 741.8591341991344| 828.9691341991343|\n",
            "|Cape Air||Cape Ai...| 735.9632258064518| 810.2641935483871|\n",
            "+--------------------+------------------+------------------+\n",
            "only showing top 20 rows\n",
            "\n"
          ]
        }
      ]
    },
    {
      "cell_type": "code",
      "source": [
        "# Calculating the number of flights between each airport pair\n",
        "\n",
        "df.groupBy(\"startingAirport\", \"destinationAirport\").agg(count(\"*\").alias(\"count\")).orderBy(col(\"count\").desc()).show()"
      ],
      "metadata": {
        "id": "2GcEDPFN7Ite",
        "colab": {
          "base_uri": "https://localhost:8080/"
        },
        "outputId": "94789a83-9a7f-4997-9232-d387cb4bb5de"
      },
      "execution_count": null,
      "outputs": [
        {
          "output_type": "stream",
          "name": "stdout",
          "text": [
            "+---------------+------------------+------+\n",
            "|startingAirport|destinationAirport| count|\n",
            "+---------------+------------------+------+\n",
            "|            ATL|               LAX|709809|\n",
            "|            LAX|               BOS|679169|\n",
            "|            LGA|               LAX|677713|\n",
            "|            LAX|               ATL|669609|\n",
            "|            LAX|               LGA|663659|\n",
            "|            BOS|               LAX|644390|\n",
            "|            LAX|               JFK|625496|\n",
            "|            LAX|               ORD|620576|\n",
            "|            DFW|               LAX|612390|\n",
            "|            LAX|               DFW|610669|\n",
            "|            JFK|               LAX|605017|\n",
            "|            LAX|               DTW|601537|\n",
            "|            ORD|               LAX|597847|\n",
            "|            LAX|               EWR|587270|\n",
            "|            DTW|               LAX|582022|\n",
            "|            CLT|               LAX|572097|\n",
            "|            JFK|               ORD|557152|\n",
            "|            LAX|               CLT|554474|\n",
            "|            LGA|               ORD|550319|\n",
            "|            LAX|               PHL|549880|\n",
            "+---------------+------------------+------+\n",
            "only showing top 20 rows\n",
            "\n"
          ]
        }
      ]
    },
    {
      "cell_type": "code",
      "source": [
        "# Calculating the percentage of basic economy tickets sold, Refundable and NonStop \n",
        "\n",
        "df.groupBy(\"isBasicEconomy\").agg(count(\"*\").alias(\"count\")).withColumn(\"percentage\", col(\"count\")/df.count()*100).show()\n",
        "df.groupBy(\"isRefundable\").agg(count(\"*\").alias(\"count\")).withColumn(\"percentage\", col(\"count\")/df.count()*100).show()\n",
        "df.groupBy(\"isNonStop\").agg(count(\"*\").alias(\"count\")).withColumn(\"percentage\", col(\"count\")/df.count()*100).show()"
      ],
      "metadata": {
        "id": "q6i0zJHa7Nj6",
        "outputId": "fb313a69-c94f-4d91-a4bf-c8350f314f6c",
        "colab": {
          "base_uri": "https://localhost:8080/",
          "height": 235
        }
      },
      "execution_count": null,
      "outputs": [
        {
          "output_type": "error",
          "ename": "NameError",
          "evalue": "ignored",
          "traceback": [
            "\u001b[0;31m---------------------------------------------------------------------------\u001b[0m",
            "\u001b[0;31mNameError\u001b[0m                                 Traceback (most recent call last)",
            "\u001b[0;32m<ipython-input-1-9d02b9762ff4>\u001b[0m in \u001b[0;36m<cell line: 3>\u001b[0;34m()\u001b[0m\n\u001b[1;32m      1\u001b[0m \u001b[0;31m# Calculating the percentage of basic economy tickets sold, Refundable and NonStop\u001b[0m\u001b[0;34m\u001b[0m\u001b[0;34m\u001b[0m\u001b[0m\n\u001b[1;32m      2\u001b[0m \u001b[0;34m\u001b[0m\u001b[0m\n\u001b[0;32m----> 3\u001b[0;31m \u001b[0mdf\u001b[0m\u001b[0;34m.\u001b[0m\u001b[0mgroupBy\u001b[0m\u001b[0;34m(\u001b[0m\u001b[0;34m\"isBasicEconomy\"\u001b[0m\u001b[0;34m)\u001b[0m\u001b[0;34m.\u001b[0m\u001b[0magg\u001b[0m\u001b[0;34m(\u001b[0m\u001b[0mcount\u001b[0m\u001b[0;34m(\u001b[0m\u001b[0;34m\"*\"\u001b[0m\u001b[0;34m)\u001b[0m\u001b[0;34m.\u001b[0m\u001b[0malias\u001b[0m\u001b[0;34m(\u001b[0m\u001b[0;34m\"count\"\u001b[0m\u001b[0;34m)\u001b[0m\u001b[0;34m)\u001b[0m\u001b[0;34m.\u001b[0m\u001b[0mwithColumn\u001b[0m\u001b[0;34m(\u001b[0m\u001b[0;34m\"percentage\"\u001b[0m\u001b[0;34m,\u001b[0m \u001b[0mcol\u001b[0m\u001b[0;34m(\u001b[0m\u001b[0;34m\"count\"\u001b[0m\u001b[0;34m)\u001b[0m\u001b[0;34m/\u001b[0m\u001b[0mdf\u001b[0m\u001b[0;34m.\u001b[0m\u001b[0mcount\u001b[0m\u001b[0;34m(\u001b[0m\u001b[0;34m)\u001b[0m\u001b[0;34m*\u001b[0m\u001b[0;36m100\u001b[0m\u001b[0;34m)\u001b[0m\u001b[0;34m.\u001b[0m\u001b[0mshow\u001b[0m\u001b[0;34m(\u001b[0m\u001b[0;34m)\u001b[0m\u001b[0;34m\u001b[0m\u001b[0;34m\u001b[0m\u001b[0m\n\u001b[0m\u001b[1;32m      4\u001b[0m \u001b[0mdf\u001b[0m\u001b[0;34m.\u001b[0m\u001b[0mgroupBy\u001b[0m\u001b[0;34m(\u001b[0m\u001b[0;34m\"isRefundable\"\u001b[0m\u001b[0;34m)\u001b[0m\u001b[0;34m.\u001b[0m\u001b[0magg\u001b[0m\u001b[0;34m(\u001b[0m\u001b[0mcount\u001b[0m\u001b[0;34m(\u001b[0m\u001b[0;34m\"*\"\u001b[0m\u001b[0;34m)\u001b[0m\u001b[0;34m.\u001b[0m\u001b[0malias\u001b[0m\u001b[0;34m(\u001b[0m\u001b[0;34m\"count\"\u001b[0m\u001b[0;34m)\u001b[0m\u001b[0;34m)\u001b[0m\u001b[0;34m.\u001b[0m\u001b[0mwithColumn\u001b[0m\u001b[0;34m(\u001b[0m\u001b[0;34m\"percentage\"\u001b[0m\u001b[0;34m,\u001b[0m \u001b[0mcol\u001b[0m\u001b[0;34m(\u001b[0m\u001b[0;34m\"count\"\u001b[0m\u001b[0;34m)\u001b[0m\u001b[0;34m/\u001b[0m\u001b[0mdf\u001b[0m\u001b[0;34m.\u001b[0m\u001b[0mcount\u001b[0m\u001b[0;34m(\u001b[0m\u001b[0;34m)\u001b[0m\u001b[0;34m*\u001b[0m\u001b[0;36m100\u001b[0m\u001b[0;34m)\u001b[0m\u001b[0;34m.\u001b[0m\u001b[0mshow\u001b[0m\u001b[0;34m(\u001b[0m\u001b[0;34m)\u001b[0m\u001b[0;34m\u001b[0m\u001b[0;34m\u001b[0m\u001b[0m\n\u001b[1;32m      5\u001b[0m \u001b[0mdf\u001b[0m\u001b[0;34m.\u001b[0m\u001b[0mgroupBy\u001b[0m\u001b[0;34m(\u001b[0m\u001b[0;34m\"isNonStop\"\u001b[0m\u001b[0;34m)\u001b[0m\u001b[0;34m.\u001b[0m\u001b[0magg\u001b[0m\u001b[0;34m(\u001b[0m\u001b[0mcount\u001b[0m\u001b[0;34m(\u001b[0m\u001b[0;34m\"*\"\u001b[0m\u001b[0;34m)\u001b[0m\u001b[0;34m.\u001b[0m\u001b[0malias\u001b[0m\u001b[0;34m(\u001b[0m\u001b[0;34m\"count\"\u001b[0m\u001b[0;34m)\u001b[0m\u001b[0;34m)\u001b[0m\u001b[0;34m.\u001b[0m\u001b[0mwithColumn\u001b[0m\u001b[0;34m(\u001b[0m\u001b[0;34m\"percentage\"\u001b[0m\u001b[0;34m,\u001b[0m \u001b[0mcol\u001b[0m\u001b[0;34m(\u001b[0m\u001b[0;34m\"count\"\u001b[0m\u001b[0;34m)\u001b[0m\u001b[0;34m/\u001b[0m\u001b[0mdf\u001b[0m\u001b[0;34m.\u001b[0m\u001b[0mcount\u001b[0m\u001b[0;34m(\u001b[0m\u001b[0;34m)\u001b[0m\u001b[0;34m*\u001b[0m\u001b[0;36m100\u001b[0m\u001b[0;34m)\u001b[0m\u001b[0;34m.\u001b[0m\u001b[0mshow\u001b[0m\u001b[0;34m(\u001b[0m\u001b[0;34m)\u001b[0m\u001b[0;34m\u001b[0m\u001b[0;34m\u001b[0m\u001b[0m\n",
            "\u001b[0;31mNameError\u001b[0m: name 'df' is not defined"
          ]
        }
      ]
    },
    {
      "cell_type": "code",
      "source": [
        "import pyspark.pandas as ps\n",
        "import seaborn as sns\n",
        "import matplotlib.pyplot as plt\n",
        "\n",
        "# Converting PySpark DataFrame to PySpark.Pandas DataFrame\n",
        "pdf = ps.DataFrame(df.select(\"baseFare\", \"totalFare\").toPandas())\n",
        "\n",
        "# Plotting histograms of baseFare and totalFare\n",
        "fig, axs = plt.subplots(ncols=2, figsize=(10,5))\n",
        "sns.histplot(pdf[\"baseFare\"], bins=30, ax=axs[0])\n",
        "sns.histplot(pdf[\"totalFare\"], bins=30, ax=axs[1])\n",
        "\n",
        "plt.show()"
      ],
      "metadata": {
        "id": "_2w-B1n0LMIk",
        "colab": {
          "base_uri": "https://localhost:8080/",
          "height": 1000
        },
        "outputId": "825fb2d8-2c82-4256-b5bb-cb907fedde56"
      },
      "execution_count": null,
      "outputs": [
        {
          "output_type": "stream",
          "name": "stderr",
          "text": [
            "/usr/local/lib/python3.10/dist-packages/pyspark/pandas/__init__.py:50: UserWarning: 'PYARROW_IGNORE_TIMEZONE' environment variable was not set. It is required to set this environment variable to '1' in both driver and executor sides if you use pyarrow>=2.0.0. pandas-on-Spark will set it for you but it does not work if there is a Spark context already launched.\n",
            "  warnings.warn(\n"
          ]
        },
        {
          "output_type": "error",
          "ename": "Py4JJavaError",
          "evalue": "ignored",
          "traceback": [
            "\u001b[0;31m---------------------------------------------------------------------------\u001b[0m",
            "\u001b[0;31mPy4JJavaError\u001b[0m                             Traceback (most recent call last)",
            "\u001b[0;32m<ipython-input-3-7f1cadfe4daf>\u001b[0m in \u001b[0;36m<cell line: 6>\u001b[0;34m()\u001b[0m\n\u001b[1;32m      4\u001b[0m \u001b[0;34m\u001b[0m\u001b[0m\n\u001b[1;32m      5\u001b[0m \u001b[0;31m# Converting PySpark DataFrame to PySpark.Pandas DataFrame\u001b[0m\u001b[0;34m\u001b[0m\u001b[0;34m\u001b[0m\u001b[0m\n\u001b[0;32m----> 6\u001b[0;31m \u001b[0mpdf\u001b[0m \u001b[0;34m=\u001b[0m \u001b[0mps\u001b[0m\u001b[0;34m.\u001b[0m\u001b[0mDataFrame\u001b[0m\u001b[0;34m(\u001b[0m\u001b[0mdf\u001b[0m\u001b[0;34m.\u001b[0m\u001b[0mselect\u001b[0m\u001b[0;34m(\u001b[0m\u001b[0;34m\"baseFare\"\u001b[0m\u001b[0;34m,\u001b[0m \u001b[0;34m\"totalFare\"\u001b[0m\u001b[0;34m)\u001b[0m\u001b[0;34m.\u001b[0m\u001b[0mtoPandas\u001b[0m\u001b[0;34m(\u001b[0m\u001b[0;34m)\u001b[0m\u001b[0;34m)\u001b[0m\u001b[0;34m\u001b[0m\u001b[0;34m\u001b[0m\u001b[0m\n\u001b[0m\u001b[1;32m      7\u001b[0m \u001b[0;34m\u001b[0m\u001b[0m\n\u001b[1;32m      8\u001b[0m \u001b[0;31m# Plotting histograms of baseFare and totalFare\u001b[0m\u001b[0;34m\u001b[0m\u001b[0;34m\u001b[0m\u001b[0m\n",
            "\u001b[0;32m/usr/local/lib/python3.10/dist-packages/pyspark/sql/pandas/conversion.py\u001b[0m in \u001b[0;36mtoPandas\u001b[0;34m(self)\u001b[0m\n\u001b[1;32m    206\u001b[0m \u001b[0;34m\u001b[0m\u001b[0m\n\u001b[1;32m    207\u001b[0m         \u001b[0;31m# Below is toPandas without Arrow optimization.\u001b[0m\u001b[0;34m\u001b[0m\u001b[0;34m\u001b[0m\u001b[0m\n\u001b[0;32m--> 208\u001b[0;31m         \u001b[0mpdf\u001b[0m \u001b[0;34m=\u001b[0m \u001b[0mpd\u001b[0m\u001b[0;34m.\u001b[0m\u001b[0mDataFrame\u001b[0m\u001b[0;34m.\u001b[0m\u001b[0mfrom_records\u001b[0m\u001b[0;34m(\u001b[0m\u001b[0mself\u001b[0m\u001b[0;34m.\u001b[0m\u001b[0mcollect\u001b[0m\u001b[0;34m(\u001b[0m\u001b[0;34m)\u001b[0m\u001b[0;34m,\u001b[0m \u001b[0mcolumns\u001b[0m\u001b[0;34m=\u001b[0m\u001b[0mself\u001b[0m\u001b[0;34m.\u001b[0m\u001b[0mcolumns\u001b[0m\u001b[0;34m)\u001b[0m\u001b[0;34m\u001b[0m\u001b[0;34m\u001b[0m\u001b[0m\n\u001b[0m\u001b[1;32m    209\u001b[0m         \u001b[0mcolumn_counter\u001b[0m \u001b[0;34m=\u001b[0m \u001b[0mCounter\u001b[0m\u001b[0;34m(\u001b[0m\u001b[0mself\u001b[0m\u001b[0;34m.\u001b[0m\u001b[0mcolumns\u001b[0m\u001b[0;34m)\u001b[0m\u001b[0;34m\u001b[0m\u001b[0;34m\u001b[0m\u001b[0m\n\u001b[1;32m    210\u001b[0m \u001b[0;34m\u001b[0m\u001b[0m\n",
            "\u001b[0;32m/usr/local/lib/python3.10/dist-packages/pyspark/sql/dataframe.py\u001b[0m in \u001b[0;36mcollect\u001b[0;34m(self)\u001b[0m\n\u001b[1;32m   1214\u001b[0m         \"\"\"\n\u001b[1;32m   1215\u001b[0m         \u001b[0;32mwith\u001b[0m \u001b[0mSCCallSiteSync\u001b[0m\u001b[0;34m(\u001b[0m\u001b[0mself\u001b[0m\u001b[0;34m.\u001b[0m\u001b[0m_sc\u001b[0m\u001b[0;34m)\u001b[0m\u001b[0;34m:\u001b[0m\u001b[0;34m\u001b[0m\u001b[0;34m\u001b[0m\u001b[0m\n\u001b[0;32m-> 1216\u001b[0;31m             \u001b[0msock_info\u001b[0m \u001b[0;34m=\u001b[0m \u001b[0mself\u001b[0m\u001b[0;34m.\u001b[0m\u001b[0m_jdf\u001b[0m\u001b[0;34m.\u001b[0m\u001b[0mcollectToPython\u001b[0m\u001b[0;34m(\u001b[0m\u001b[0;34m)\u001b[0m\u001b[0;34m\u001b[0m\u001b[0;34m\u001b[0m\u001b[0m\n\u001b[0m\u001b[1;32m   1217\u001b[0m         \u001b[0;32mreturn\u001b[0m \u001b[0mlist\u001b[0m\u001b[0;34m(\u001b[0m\u001b[0m_load_from_socket\u001b[0m\u001b[0;34m(\u001b[0m\u001b[0msock_info\u001b[0m\u001b[0;34m,\u001b[0m \u001b[0mBatchedSerializer\u001b[0m\u001b[0;34m(\u001b[0m\u001b[0mCPickleSerializer\u001b[0m\u001b[0;34m(\u001b[0m\u001b[0;34m)\u001b[0m\u001b[0;34m)\u001b[0m\u001b[0;34m)\u001b[0m\u001b[0;34m)\u001b[0m\u001b[0;34m\u001b[0m\u001b[0;34m\u001b[0m\u001b[0m\n\u001b[1;32m   1218\u001b[0m \u001b[0;34m\u001b[0m\u001b[0m\n",
            "\u001b[0;32m/usr/local/lib/python3.10/dist-packages/py4j/java_gateway.py\u001b[0m in \u001b[0;36m__call__\u001b[0;34m(self, *args)\u001b[0m\n\u001b[1;32m   1320\u001b[0m \u001b[0;34m\u001b[0m\u001b[0m\n\u001b[1;32m   1321\u001b[0m         \u001b[0manswer\u001b[0m \u001b[0;34m=\u001b[0m \u001b[0mself\u001b[0m\u001b[0;34m.\u001b[0m\u001b[0mgateway_client\u001b[0m\u001b[0;34m.\u001b[0m\u001b[0msend_command\u001b[0m\u001b[0;34m(\u001b[0m\u001b[0mcommand\u001b[0m\u001b[0;34m)\u001b[0m\u001b[0;34m\u001b[0m\u001b[0;34m\u001b[0m\u001b[0m\n\u001b[0;32m-> 1322\u001b[0;31m         return_value = get_return_value(\n\u001b[0m\u001b[1;32m   1323\u001b[0m             answer, self.gateway_client, self.target_id, self.name)\n\u001b[1;32m   1324\u001b[0m \u001b[0;34m\u001b[0m\u001b[0m\n",
            "\u001b[0;32m/usr/local/lib/python3.10/dist-packages/pyspark/errors/exceptions/captured.py\u001b[0m in \u001b[0;36mdeco\u001b[0;34m(*a, **kw)\u001b[0m\n\u001b[1;32m    167\u001b[0m     \u001b[0;32mdef\u001b[0m \u001b[0mdeco\u001b[0m\u001b[0;34m(\u001b[0m\u001b[0;34m*\u001b[0m\u001b[0ma\u001b[0m\u001b[0;34m:\u001b[0m \u001b[0mAny\u001b[0m\u001b[0;34m,\u001b[0m \u001b[0;34m**\u001b[0m\u001b[0mkw\u001b[0m\u001b[0;34m:\u001b[0m \u001b[0mAny\u001b[0m\u001b[0;34m)\u001b[0m \u001b[0;34m->\u001b[0m \u001b[0mAny\u001b[0m\u001b[0;34m:\u001b[0m\u001b[0;34m\u001b[0m\u001b[0;34m\u001b[0m\u001b[0m\n\u001b[1;32m    168\u001b[0m         \u001b[0;32mtry\u001b[0m\u001b[0;34m:\u001b[0m\u001b[0;34m\u001b[0m\u001b[0;34m\u001b[0m\u001b[0m\n\u001b[0;32m--> 169\u001b[0;31m             \u001b[0;32mreturn\u001b[0m \u001b[0mf\u001b[0m\u001b[0;34m(\u001b[0m\u001b[0;34m*\u001b[0m\u001b[0ma\u001b[0m\u001b[0;34m,\u001b[0m \u001b[0;34m**\u001b[0m\u001b[0mkw\u001b[0m\u001b[0;34m)\u001b[0m\u001b[0;34m\u001b[0m\u001b[0;34m\u001b[0m\u001b[0m\n\u001b[0m\u001b[1;32m    170\u001b[0m         \u001b[0;32mexcept\u001b[0m \u001b[0mPy4JJavaError\u001b[0m \u001b[0;32mas\u001b[0m \u001b[0me\u001b[0m\u001b[0;34m:\u001b[0m\u001b[0;34m\u001b[0m\u001b[0;34m\u001b[0m\u001b[0m\n\u001b[1;32m    171\u001b[0m             \u001b[0mconverted\u001b[0m \u001b[0;34m=\u001b[0m \u001b[0mconvert_exception\u001b[0m\u001b[0;34m(\u001b[0m\u001b[0me\u001b[0m\u001b[0;34m.\u001b[0m\u001b[0mjava_exception\u001b[0m\u001b[0;34m)\u001b[0m\u001b[0;34m\u001b[0m\u001b[0;34m\u001b[0m\u001b[0m\n",
            "\u001b[0;32m/usr/local/lib/python3.10/dist-packages/py4j/protocol.py\u001b[0m in \u001b[0;36mget_return_value\u001b[0;34m(answer, gateway_client, target_id, name)\u001b[0m\n\u001b[1;32m    324\u001b[0m             \u001b[0mvalue\u001b[0m \u001b[0;34m=\u001b[0m \u001b[0mOUTPUT_CONVERTER\u001b[0m\u001b[0;34m[\u001b[0m\u001b[0mtype\u001b[0m\u001b[0;34m]\u001b[0m\u001b[0;34m(\u001b[0m\u001b[0manswer\u001b[0m\u001b[0;34m[\u001b[0m\u001b[0;36m2\u001b[0m\u001b[0;34m:\u001b[0m\u001b[0;34m]\u001b[0m\u001b[0;34m,\u001b[0m \u001b[0mgateway_client\u001b[0m\u001b[0;34m)\u001b[0m\u001b[0;34m\u001b[0m\u001b[0;34m\u001b[0m\u001b[0m\n\u001b[1;32m    325\u001b[0m             \u001b[0;32mif\u001b[0m \u001b[0manswer\u001b[0m\u001b[0;34m[\u001b[0m\u001b[0;36m1\u001b[0m\u001b[0;34m]\u001b[0m \u001b[0;34m==\u001b[0m \u001b[0mREFERENCE_TYPE\u001b[0m\u001b[0;34m:\u001b[0m\u001b[0;34m\u001b[0m\u001b[0;34m\u001b[0m\u001b[0m\n\u001b[0;32m--> 326\u001b[0;31m                 raise Py4JJavaError(\n\u001b[0m\u001b[1;32m    327\u001b[0m                     \u001b[0;34m\"An error occurred while calling {0}{1}{2}.\\n\"\u001b[0m\u001b[0;34m.\u001b[0m\u001b[0;34m\u001b[0m\u001b[0;34m\u001b[0m\u001b[0m\n\u001b[1;32m    328\u001b[0m                     format(target_id, \".\", name), value)\n",
            "\u001b[0;31mPy4JJavaError\u001b[0m: An error occurred while calling o35.collectToPython.\n: java.lang.OutOfMemoryError: Java heap space\n\tat scala.collection.mutable.ResizableArray.ensureSize(ResizableArray.scala:106)\n\tat scala.collection.mutable.ResizableArray.ensureSize$(ResizableArray.scala:96)\n\tat scala.collection.mutable.ArrayBuffer.ensureSize(ArrayBuffer.scala:49)\n\tat scala.collection.mutable.ArrayBuffer.$plus$eq(ArrayBuffer.scala:85)\n\tat org.apache.spark.sql.execution.SparkPlan.$anonfun$executeCollect$2(SparkPlan.scala:449)\n\tat org.apache.spark.sql.execution.SparkPlan$$Lambda$3125/0x00000008412ee040.apply(Unknown Source)\n\tat scala.collection.Iterator.foreach(Iterator.scala:943)\n\tat scala.collection.Iterator.foreach$(Iterator.scala:943)\n\tat org.apache.spark.util.NextIterator.foreach(NextIterator.scala:21)\n\tat org.apache.spark.sql.execution.SparkPlan.$anonfun$executeCollect$1(SparkPlan.scala:449)\n\tat org.apache.spark.sql.execution.SparkPlan.$anonfun$executeCollect$1$adapted(SparkPlan.scala:448)\n\tat org.apache.spark.sql.execution.SparkPlan$$Lambda$3124/0x00000008412f0040.apply(Unknown Source)\n\tat scala.collection.IndexedSeqOptimized.foreach(IndexedSeqOptimized.scala:36)\n\tat scala.collection.IndexedSeqOptimized.foreach$(IndexedSeqOptimized.scala:33)\n\tat scala.collection.mutable.ArrayOps$ofRef.foreach(ArrayOps.scala:198)\n\tat org.apache.spark.sql.execution.SparkPlan.executeCollect(SparkPlan.scala:448)\n\tat org.apache.spark.sql.Dataset.$anonfun$collectToPython$1(Dataset.scala:3997)\n\tat org.apache.spark.sql.Dataset$$Lambda$3027/0x00000008412dd040.apply(Unknown Source)\n\tat org.apache.spark.sql.Dataset.$anonfun$withAction$2(Dataset.scala:4167)\n\tat org.apache.spark.sql.Dataset$$Lambda$2083/0x0000000840ebd840.apply(Unknown Source)\n\tat org.apache.spark.sql.execution.QueryExecution$.withInternalError(QueryExecution.scala:526)\n\tat org.apache.spark.sql.Dataset.$anonfun$withAction$1(Dataset.scala:4165)\n\tat org.apache.spark.sql.Dataset$$Lambda$1746/0x0000000840d4d840.apply(Unknown Source)\n\tat org.apache.spark.sql.execution.SQLExecution$.$anonfun$withNewExecutionId$6(SQLExecution.scala:118)\n\tat org.apache.spark.sql.execution.SQLExecution$$$Lambda$1757/0x0000000840d53840.apply(Unknown Source)\n\tat org.apache.spark.sql.execution.SQLExecution$.withSQLConfPropagated(SQLExecution.scala:195)\n\tat org.apache.spark.sql.execution.SQLExecution$.$anonfun$withNewExecutionId$1(SQLExecution.scala:103)\n\tat org.apache.spark.sql.execution.SQLExecution$$$Lambda$1747/0x0000000840d4dc40.apply(Unknown Source)\n\tat org.apache.spark.sql.SparkSession.withActive(SparkSession.scala:827)\n\tat org.apache.spark.sql.execution.SQLExecution$.withNewExecutionId(SQLExecution.scala:65)\n\tat org.apache.spark.sql.Dataset.withAction(Dataset.scala:4165)\n\tat org.apache.spark.sql.Dataset.collectToPython(Dataset.scala:3994)\n"
          ]
        }
      ]
    },
    {
      "cell_type": "code",
      "source": [
        "# Plotting histograms of travelDuration and totalTravelDistance\n",
        "fig, axs = plt.subplots(ncols=2, figsize=(10,5))\n",
        "sns.histplot(pdf[\"travelDuration\"], bins=30, ax=axs[0])\n",
        "sns.histplot(pdf[\"totalTravelDistance\"], bins=30, ax=axs[1])\n",
        "\n",
        "plt.show()"
      ],
      "metadata": {
        "id": "PwS20MfOg1z6"
      },
      "execution_count": null,
      "outputs": []
    },
    {
      "cell_type": "code",
      "source": [
        "# Plotting boxplots of seatsRemaining \n",
        "fig, axs = plt.subplots(ncols=2, figsize=(10,5))\n",
        "sns.boxplot(x=pdf[\"seatsRemaining\"], ax=axs[0])\n",
        "plt.show()"
      ],
      "metadata": {
        "id": "P8qdlYlkg5QQ"
      },
      "execution_count": null,
      "outputs": []
    },
    {
      "cell_type": "markdown",
      "source": [],
      "metadata": {
        "id": "dA186gv-8SAW"
      }
    },
    {
      "cell_type": "code",
      "source": [
        "# Converting PySpark DataFrame to PySpark.Pandas DataFrame\n",
        "pdf = ps.DataFrame(df.select(\"segmentsAirlineName\", \"baseFare\"))\n",
        "\n",
        "# Plotting a box plot of baseFare for each airline\n",
        "airlines = pdf[\"segmentsAirlineName\"].unique()\n",
        "airline_data = [pdf[pdf[\"segmentsAirlineName\"] == a][\"baseFare\"].to_list() for a in airlines]\n",
        "\n",
        "fig, ax = plt.subplots()\n",
        "ax.boxplot(airline_data, labels=airlines)\n",
        "ax.set_xlabel(\"Airline\")\n",
        "ax.set_ylabel(\"Base Fare\")\n",
        "plt.show()"
      ],
      "metadata": {
        "id": "4yBAboJhRygu"
      },
      "execution_count": null,
      "outputs": []
    },
    {
      "cell_type": "code",
      "source": [
        "# Converting PySpark DataFrame to PySpark.Pandas DataFrame\n",
        "pdf = df.select(\"travelDuration\").toPandas()\n",
        "\n",
        "# Plotting histogram of travelDuration\n",
        "\n",
        "plt.hist(pdf, bins=20)\n",
        "plt.xlabel(\"Travel Duration\")\n",
        "plt.ylabel(\"Count\")\n",
        "plt.show()"
      ],
      "metadata": {
        "id": "jnx0ooMJS1Ft"
      },
      "execution_count": null,
      "outputs": []
    },
    {
      "cell_type": "code",
      "source": [
        "fig, ax = plt.subplots(figsize=(8,6))\n",
        "\n",
        "# Converting PySpark DataFrame to PySpark.Pandas DataFrame\n",
        "\n",
        "pdf = df.select(\"baseFare\", \"totalFare\").toPandas()\n",
        "\n",
        "# Plotting a scatter plot between baseFare and totalFare\n",
        "ax.scatter(pdf[\"baseFare\"], pdf[\"totalFare\"])\n",
        "ax.set_xlabel(\"Base Fare\")\n",
        "ax.set_ylabel(\"Total Fare\")\n",
        "\n",
        "plt.show()"
      ],
      "metadata": {
        "id": "Hkzuin-JVyZR"
      },
      "execution_count": null,
      "outputs": []
    },
    {
      "cell_type": "code",
      "source": [
        "# creating a dataframe with searchDate and flightDate columns\n",
        "date_df = df.select('searchDate', 'flightDate')\n",
        "\n",
        "# converting date format to yyyy-MM-dd for plotting\n",
        "date_df = date_df.withColumn('searchDate', F.date_format('searchDate', 'yyyy-MM-dd'))\n",
        "date_df = date_df.withColumn('flightDate', F.date_format('flightDate', 'yyyy-MM-dd'))\n",
        "\n",
        "# converting dataframe to pandas dataframe for plotting\n",
        "date_pandas = date_df.toPandas()\n",
        "\n",
        "# plotting the line graph\n",
        "plt.plot('searchDate', 'flightDate', data=date_pandas)\n",
        "plt.xticks(rotation=45)\n",
        "plt.xlabel('Search Date')\n",
        "plt.ylabel('Flight Date')\n",
        "plt.title('Search Date vs. Flight Date')\n",
        "plt.show()"
      ],
      "metadata": {
        "id": "mR_tRUdPjos-"
      },
      "execution_count": null,
      "outputs": []
    },
    {
      "cell_type": "code",
      "source": [
        "!pip install pyspark_dist_explore\n",
        "\n",
        "import pyspark_dist_explore as pde\n",
        "\n",
        "# Selecting the relevant columns for correlation analysis\n",
        "cor_df = df.select(\"travelDuration\", \"elapsedDays\", \"isBasicEconomy\", \"isRefundable\", \"isNonStop\", \"baseFare\", \"totalFare\", \"seatsRemaining\", \"totalTravelDistance\", \"segmentsDurationInSeconds\", \"segmentsDistance\")\n",
        "\n",
        "# Calculating the correlation matrix\n",
        "corr_matrix = cor_df.toPandas().corr()\n",
        "\n",
        "# Plotting the heatmap\n",
        "fig, ax = pde.plot_corr(corr_matrix, figsize=(10,10))"
      ],
      "metadata": {
        "id": "sHvGy34-dxqt"
      },
      "execution_count": null,
      "outputs": []
    },
    {
      "cell_type": "code",
      "source": [
        "# Creating a feature vector from the numeric columns\n",
        "from pyspark.ml.feature import VectorAssembler\n",
        "\n",
        "feature_cols = [\"baseFare\", \"totalFare\"]\n",
        "assembler = VectorAssembler(inputCols=feature_cols, outputCol=\"features\")\n",
        "data = assembler.transform(df).select(\"features\", \"totalFare\").cache()\n",
        "\n",
        "# Splitting the data into training and testing sets\n",
        "train_data, test_data = data.randomSplit([0.7, 0.3], seed=1234)"
      ],
      "metadata": {
        "id": "2npm8_GtUkbn"
      },
      "execution_count": null,
      "outputs": []
    },
    {
      "cell_type": "code",
      "source": [
        "from pyspark.ml.regression import LinearRegression, DecisionTreeRegressor\n",
        "from pyspark.ml.evaluation import RegressionEvaluator\n",
        "from pyspark.ml.tuning import CrossValidator, ParamGridBuilder\n",
        "from pyspark.ml.feature import StandardScaler\n",
        "from pyspark.ml.pipeline import Pipeline\n",
        "from pyspark.ml.regression import LinearRegression, DecisionTreeRegressor, GBTRegressor\n",
        "from pyspark.ml.regression import RandomForestRegressor\n",
        "from pyspark.ml.regression import IsotonicRegression\n",
        "from pyspark.ml.regression import GeneralizedLinearRegression\n",
        "\n",
        "# Standardizing the features\n",
        "scaler = StandardScaler(inputCol=\"features\", outputCol=\"scaledFeatures\",\n",
        "                        withStd=True, withMean=True)\n",
        "scaled_train_data = scaler.fit(train_data).transform(train_data)\n",
        "scaled_test_data = scaler.fit(test_data).transform(test_data)\n",
        "\n",
        "# Linear Regression\n",
        "lr = LinearRegression(featuresCol=\"scaledFeatures\", labelCol=\"totalFare\", maxIter=10, regParam=0.3, elasticNetParam=0.8)\n",
        "\n",
        "# Decision Tree Regression\n",
        "dt = DecisionTreeRegressor(featuresCol=\"scaledFeatures\", labelCol=\"totalFare\", maxDepth=5)\n",
        "\n",
        "# Fitting the models\n",
        "\n",
        "lr_model = lr.fit(scaled_train_data)\n",
        "dt_model = dt.fit(scaled_train_data)\n",
        "\n",
        "# Evaluate the models on the test set\n",
        "lr_predictions = lr_model.transform(scaled_test_data)\n",
        "lr_evaluator = RegressionEvaluator(labelCol=\"totalFare\", predictionCol=\"prediction\", metricName=\"rmse\")\n",
        "lr_rmse = lr_evaluator.evaluate(lr_predictions)\n",
        "\n",
        "dt_predictions = dt_model.transform(scaled_test_data)\n",
        "dt_evaluator = RegressionEvaluator(labelCol=\"totalFare\", predictionCol=\"prediction\", metricName=\"rmse\")\n",
        "dt_rmse = dt_evaluator.evaluate(dt_predictions)"
      ],
      "metadata": {
        "id": "h4vvffcKVhJN"
      },
      "execution_count": null,
      "outputs": []
    },
    {
      "cell_type": "markdown",
      "source": [
        "# New Section"
      ],
      "metadata": {
        "id": "bPswb4R55_Pj"
      }
    },
    {
      "cell_type": "code",
      "source": [
        "print(\"Linear Regression RMSE:\", lr_rmse)"
      ],
      "metadata": {
        "id": "TlR4OzFRWJZR"
      },
      "execution_count": null,
      "outputs": []
    },
    {
      "cell_type": "code",
      "source": [
        "print(\"Decision Tree Regression RMSE:\", dt_rmse)"
      ],
      "metadata": {
        "id": "DimWZhUzXKaL"
      },
      "execution_count": null,
      "outputs": []
    }
  ]
}